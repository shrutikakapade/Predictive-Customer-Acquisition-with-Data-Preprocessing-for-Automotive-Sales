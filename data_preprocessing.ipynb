{
  "nbformat": 4,
  "nbformat_minor": 0,
  "metadata": {
    "colab": {
      "provenance": []
    },
    "kernelspec": {
      "name": "python3",
      "display_name": "Python 3"
    }
  },
  "cells": [
    {
      "cell_type": "markdown",
      "metadata": {
        "id": "37puETfgRzzg"
      },
      "source": [
        "# Data Preprocessing | IBM SkillsBuild Internship"
      ]
    },
    {
      "cell_type": "markdown",
      "metadata": {
        "id": "EoRP98MpR-qj"
      },
      "source": [
        "## Import the required libraries"
      ]
    },
    {
      "cell_type": "code",
      "source": [
        "import numpy as np\n",
        "import pandas as pd\n",
        "import matplotlib.pyplot as plt"
      ],
      "metadata": {
        "id": "XI9D4jJqQE8q"
      },
      "execution_count": 1,
      "outputs": []
    },
    {
      "cell_type": "markdown",
      "metadata": {
        "id": "RopL7tUZSQkT"
      },
      "source": [
        "## Import the dataset"
      ]
    },
    {
      "cell_type": "code",
      "source": [
        "dataset = pd.read_csv('Data.csv')\n",
        "x = dataset.iloc[: , :-1].values #iloc is where my x is locating\n",
        "y = dataset.iloc[:, -1].values"
      ],
      "metadata": {
        "id": "uWg-_RaWQ4RA"
      },
      "execution_count": 2,
      "outputs": []
    },
    {
      "cell_type": "code",
      "source": [
        "print(x) #replace the nan either the mean or median"
      ],
      "metadata": {
        "colab": {
          "base_uri": "https://localhost:8080/"
        },
        "id": "ggEGdnZnR6qB",
        "outputId": "d66a981e-814e-40d1-a1c7-9cd15be7cc15"
      },
      "execution_count": 4,
      "outputs": [
        {
          "output_type": "stream",
          "name": "stdout",
          "text": [
            "[['India' 44.0 72000.0]\n",
            " ['Thailand ' 27.0 48000.0]\n",
            " ['Indonesia' 30.0 54000.0]\n",
            " ['China' 38.0 61000.0]\n",
            " ['India' 40.0 nan]\n",
            " ['China' 35.0 58000.0]\n",
            " ['Thailand ' nan 52000.0]\n",
            " ['India' 48.0 79000.0]\n",
            " ['Indonesia' 50.0 83000.0]\n",
            " ['Thailand ' 37.0 67000.0]\n",
            " ['India' 25.0 nan]\n",
            " ['Thailand ' 36.0 60000.0]\n",
            " ['Indonesia' 42.0 64000.0]\n",
            " ['India' nan 40000.0]\n",
            " ['Thailand ' 52.0 90000.0]\n",
            " ['Indonesia' nan 55000.0]\n",
            " ['China' 41.0 nan]\n",
            " ['India' 29.0 48000.0]\n",
            " ['China' 43.0 70000.0]]\n"
          ]
        }
      ]
    },
    {
      "cell_type": "code",
      "source": [
        "print(y)"
      ],
      "metadata": {
        "colab": {
          "base_uri": "https://localhost:8080/"
        },
        "id": "EGyh15qsSqwe",
        "outputId": "2de2cb6a-7d1d-4996-826d-e98e9b5b100d"
      },
      "execution_count": 5,
      "outputs": [
        {
          "output_type": "stream",
          "name": "stdout",
          "text": [
            "['No' 'Yes' 'No' 'No' 'Yes' 'Yes' 'No' 'Yes' 'No' 'Yes' 'No' 'No' 'Yes'\n",
            " 'Yes' 'Yes' 'No' 'Yes' 'No' 'Yes']\n"
          ]
        }
      ]
    },
    {
      "cell_type": "markdown",
      "metadata": {
        "id": "nhfKXNxlSabC"
      },
      "source": [
        "## Solving for missing data"
      ]
    },
    {
      "cell_type": "code",
      "source": [
        "#use simpleimputer it is a Univariate imputer for completing missing values with simple strategies.\n",
        "#Replace missing values using a descriptive statistic (e.g. mean, median, or most frequent) along each column, or using a constant value.\n",
        "from sklearn.impute import SimpleImputer\n",
        "imputer = SimpleImputer(missing_values = np.nan, strategy = 'mean') #here we use numpy for array\n",
        "imputer.fit(x[:, 1:3])\n",
        "x[:, 1:3] = imputer.transform(x[: , 1:3])"
      ],
      "metadata": {
        "id": "dBvDOF6iRprg"
      },
      "execution_count": 9,
      "outputs": []
    },
    {
      "cell_type": "code",
      "source": [
        "print(x)"
      ],
      "metadata": {
        "colab": {
          "base_uri": "https://localhost:8080/"
        },
        "id": "kxSMLN4IUHn2",
        "outputId": "66c7eeda-c188-4430-b652-bf34be623051"
      },
      "execution_count": 10,
      "outputs": [
        {
          "output_type": "stream",
          "name": "stdout",
          "text": [
            "[['India' 44.0 72000.0]\n",
            " ['Thailand ' 27.0 48000.0]\n",
            " ['Indonesia' 30.0 54000.0]\n",
            " ['China' 38.0 61000.0]\n",
            " ['India' 40.0 62562.5]\n",
            " ['China' 35.0 58000.0]\n",
            " ['Thailand ' 38.5625 52000.0]\n",
            " ['India' 48.0 79000.0]\n",
            " ['Indonesia' 50.0 83000.0]\n",
            " ['Thailand ' 37.0 67000.0]\n",
            " ['India' 25.0 62562.5]\n",
            " ['Thailand ' 36.0 60000.0]\n",
            " ['Indonesia' 42.0 64000.0]\n",
            " ['India' 38.5625 40000.0]\n",
            " ['Thailand ' 52.0 90000.0]\n",
            " ['Indonesia' 38.5625 55000.0]\n",
            " ['China' 41.0 62562.5]\n",
            " ['India' 29.0 48000.0]\n",
            " ['China' 43.0 70000.0]]\n"
          ]
        }
      ]
    },
    {
      "cell_type": "markdown",
      "metadata": {
        "id": "CriG6VzVSjcK"
      },
      "source": [
        "## Encoding categorical data"
      ]
    },
    {
      "cell_type": "code",
      "source": [
        "from sklearn.compose import make_column_transformer\n",
        "from sklearn.preprocessing import OneHotEncoder\n",
        "ct = make_column_transformer((OneHotEncoder(), [0]), remainder ='passthrough')\n",
        "x = np.array(ct.fit_transform(x))"
      ],
      "metadata": {
        "id": "11KBX4SXVY5p"
      },
      "execution_count": 11,
      "outputs": []
    },
    {
      "cell_type": "code",
      "source": [
        "print(x)"
      ],
      "metadata": {
        "colab": {
          "base_uri": "https://localhost:8080/"
        },
        "id": "SeChaN2cXTiU",
        "outputId": "edcceb49-34b8-45c9-e545-bea2f9a03154"
      },
      "execution_count": 12,
      "outputs": [
        {
          "output_type": "stream",
          "name": "stdout",
          "text": [
            "[[0.0 1.0 0.0 0.0 44.0 72000.0]\n",
            " [0.0 0.0 0.0 1.0 27.0 48000.0]\n",
            " [0.0 0.0 1.0 0.0 30.0 54000.0]\n",
            " [1.0 0.0 0.0 0.0 38.0 61000.0]\n",
            " [0.0 1.0 0.0 0.0 40.0 62562.5]\n",
            " [1.0 0.0 0.0 0.0 35.0 58000.0]\n",
            " [0.0 0.0 0.0 1.0 38.5625 52000.0]\n",
            " [0.0 1.0 0.0 0.0 48.0 79000.0]\n",
            " [0.0 0.0 1.0 0.0 50.0 83000.0]\n",
            " [0.0 0.0 0.0 1.0 37.0 67000.0]\n",
            " [0.0 1.0 0.0 0.0 25.0 62562.5]\n",
            " [0.0 0.0 0.0 1.0 36.0 60000.0]\n",
            " [0.0 0.0 1.0 0.0 42.0 64000.0]\n",
            " [0.0 1.0 0.0 0.0 38.5625 40000.0]\n",
            " [0.0 0.0 0.0 1.0 52.0 90000.0]\n",
            " [0.0 0.0 1.0 0.0 38.5625 55000.0]\n",
            " [1.0 0.0 0.0 0.0 41.0 62562.5]\n",
            " [0.0 1.0 0.0 0.0 29.0 48000.0]\n",
            " [1.0 0.0 0.0 0.0 43.0 70000.0]]\n"
          ]
        }
      ]
    },
    {
      "cell_type": "markdown",
      "metadata": {
        "id": "AhSpdQWeSsFh"
      },
      "source": [
        "### Encoding the Independent Variable"
      ]
    },
    {
      "cell_type": "markdown",
      "metadata": {
        "id": "DXh8oVSITIc6"
      },
      "source": [
        "### Encoding the Dependent Variable"
      ]
    },
    {
      "cell_type": "code",
      "source": [
        "from sklearn.preprocessing import LabelEncoder #it already returns an array\n",
        "le= LabelEncoder()\n",
        "y = le.fit_transform(y)\n"
      ],
      "metadata": {
        "id": "-Kdp7x_8XqV9"
      },
      "execution_count": 13,
      "outputs": []
    },
    {
      "cell_type": "code",
      "source": [
        "print(y)"
      ],
      "metadata": {
        "colab": {
          "base_uri": "https://localhost:8080/"
        },
        "id": "WEX5UbRsYPzs",
        "outputId": "44e38fb3-ffd2-4fb0-9b19-74696c9959be"
      },
      "execution_count": 14,
      "outputs": [
        {
          "output_type": "stream",
          "name": "stdout",
          "text": [
            "[0 1 0 0 1 1 0 1 0 1 0 0 1 1 1 0 1 0 1]\n"
          ]
        }
      ]
    },
    {
      "cell_type": "markdown",
      "metadata": {
        "id": "qb_vcgm3qZKW"
      },
      "source": [
        "## Splitting the dataset into the Training set and Test set"
      ]
    },
    {
      "cell_type": "code",
      "source": [
        "from sklearn.model_selection import train_test_split\n",
        "x_train,x_test,y_train,y_test = train_test_split(x,y,test_size=0.2,random_state=1)"
      ],
      "metadata": {
        "id": "XBZ7z6_KYssL"
      },
      "execution_count": 15,
      "outputs": []
    },
    {
      "cell_type": "code",
      "source": [
        "print(x_test)"
      ],
      "metadata": {
        "colab": {
          "base_uri": "https://localhost:8080/"
        },
        "id": "s2E8XJAwa2I7",
        "outputId": "20ac19f8-4e2e-4562-c3c6-e694d447e869"
      },
      "execution_count": 16,
      "outputs": [
        {
          "output_type": "stream",
          "name": "stdout",
          "text": [
            "[[1.0 0.0 0.0 0.0 38.0 61000.0]\n",
            " [0.0 0.0 1.0 0.0 38.5625 55000.0]\n",
            " [0.0 0.0 0.0 1.0 38.5625 52000.0]\n",
            " [0.0 1.0 0.0 0.0 25.0 62562.5]]\n"
          ]
        }
      ]
    },
    {
      "cell_type": "markdown",
      "metadata": {
        "id": "TpGqbS4TqkIR"
      },
      "source": [
        "## Feature Scaling"
      ]
    },
    {
      "cell_type": "code",
      "source": [
        "from sklearn.preprocessing import StandardScaler\n",
        "sc = StandardScaler()\n",
        "x_train = sc.fit_transform(x_train)\n",
        "x_test = sc.transform(x_test)"
      ],
      "metadata": {
        "id": "f7i4qOohZO-j"
      },
      "execution_count": null,
      "outputs": []
    },
    {
      "cell_type": "code",
      "source": [
        "print(x_train)"
      ],
      "metadata": {
        "colab": {
          "base_uri": "https://localhost:8080/"
        },
        "id": "S1YJMqyIbMVk",
        "outputId": "3a999a45-dae7-4576-8977-48f978b5e16d"
      },
      "execution_count": 17,
      "outputs": [
        {
          "output_type": "stream",
          "name": "stdout",
          "text": [
            "[[0.0 0.0 1.0 0.0 30.0 54000.0]\n",
            " [0.0 0.0 0.0 1.0 52.0 90000.0]\n",
            " [0.0 1.0 0.0 0.0 40.0 62562.5]\n",
            " [1.0 0.0 0.0 0.0 41.0 62562.5]\n",
            " [0.0 1.0 0.0 0.0 48.0 79000.0]\n",
            " [0.0 0.0 0.0 1.0 27.0 48000.0]\n",
            " [0.0 1.0 0.0 0.0 38.5625 40000.0]\n",
            " [0.0 1.0 0.0 0.0 44.0 72000.0]\n",
            " [1.0 0.0 0.0 0.0 43.0 70000.0]\n",
            " [0.0 1.0 0.0 0.0 29.0 48000.0]\n",
            " [0.0 0.0 0.0 1.0 37.0 67000.0]\n",
            " [0.0 0.0 1.0 0.0 50.0 83000.0]\n",
            " [0.0 0.0 1.0 0.0 42.0 64000.0]\n",
            " [0.0 0.0 0.0 1.0 36.0 60000.0]\n",
            " [1.0 0.0 0.0 0.0 35.0 58000.0]]\n"
          ]
        }
      ]
    },
    {
      "cell_type": "code",
      "source": [
        "print(x_train)\n",
        "print(x_test)"
      ],
      "metadata": {
        "colab": {
          "base_uri": "https://localhost:8080/"
        },
        "id": "GCd0NcgKbQsK",
        "outputId": "161074d4-9230-40fc-a630-fc614e1afd10"
      },
      "execution_count": 18,
      "outputs": [
        {
          "output_type": "stream",
          "name": "stdout",
          "text": [
            "[[0.0 0.0 1.0 0.0 30.0 54000.0]\n",
            " [0.0 0.0 0.0 1.0 52.0 90000.0]\n",
            " [0.0 1.0 0.0 0.0 40.0 62562.5]\n",
            " [1.0 0.0 0.0 0.0 41.0 62562.5]\n",
            " [0.0 1.0 0.0 0.0 48.0 79000.0]\n",
            " [0.0 0.0 0.0 1.0 27.0 48000.0]\n",
            " [0.0 1.0 0.0 0.0 38.5625 40000.0]\n",
            " [0.0 1.0 0.0 0.0 44.0 72000.0]\n",
            " [1.0 0.0 0.0 0.0 43.0 70000.0]\n",
            " [0.0 1.0 0.0 0.0 29.0 48000.0]\n",
            " [0.0 0.0 0.0 1.0 37.0 67000.0]\n",
            " [0.0 0.0 1.0 0.0 50.0 83000.0]\n",
            " [0.0 0.0 1.0 0.0 42.0 64000.0]\n",
            " [0.0 0.0 0.0 1.0 36.0 60000.0]\n",
            " [1.0 0.0 0.0 0.0 35.0 58000.0]]\n",
            "[[1.0 0.0 0.0 0.0 38.0 61000.0]\n",
            " [0.0 0.0 1.0 0.0 38.5625 55000.0]\n",
            " [0.0 0.0 0.0 1.0 38.5625 52000.0]\n",
            " [0.0 1.0 0.0 0.0 25.0 62562.5]]\n"
          ]
        }
      ]
    }
  ]
}